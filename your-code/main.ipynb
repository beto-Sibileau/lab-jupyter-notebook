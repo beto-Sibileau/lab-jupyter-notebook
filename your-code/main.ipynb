{
 "cells": [
  {
   "cell_type": "markdown",
   "metadata": {},
   "source": [
    "# Pepi&Beto's holiday Notebook"
   ]
  },
  {
   "attachments": {},
   "cell_type": "markdown",
   "metadata": {},
   "source": [
    "## We love outdoors\n",
    "\n",
    "Here we are at the **Dolomites** (Val di Fassa) during a summer holidays :)\n",
    "\n",
    "<img src=\"../images/IMG-20160816-WA0008.jpg\" alt=\"Summer at the Dolomites (Val di Fassa)\" title=\"Dolomites\"/>\n",
    "\n",
    "And this is a [link](https://youtu.be/id7BM9ovT14) to our record reaching the top of *Magdalena Inferior* (our first multi-pitch climb together at *Montserrat*, Barcelona).\n"
   ]
  },
  {
   "cell_type": "markdown",
   "metadata": {},
   "source": [
    "## Lab Description\n",
    "\n",
    "Based on our past holiday experiences, I will introduce some pictures in this Jupyter Notebook to <ins>upgrade</ins> **the look and feel** of Python coding below!\n"
   ]
  },
  {
   "cell_type": "code",
   "execution_count": 1,
   "metadata": {},
   "outputs": [
    {
     "name": "stdout",
     "output_type": "stream",
     "text": [
      "Who's your favourite holiday/travel buddy? Pepi\n",
      "My favourite travel buddy is Pepi !!!\n"
     ]
    }
   ],
   "source": [
    "\n",
    "def inputName():\n",
    "    return input(\"Who's your favourite holiday/travel buddy? \")\n",
    "\n",
    "answer = inputName()\n",
    "print('My favourite travel buddy is', answer,'!!!')\n"
   ]
  },
  {
   "cell_type": "markdown",
   "metadata": {},
   "source": [
    "## Meet Pepi :)\n",
    "\n",
    "<img src=\"../images/WAimg2.jpeg\" alt=\"Summer in Iceland\" title=\"Pepi at Mýrdalsjökull\"/>\n"
   ]
  },
  {
   "cell_type": "markdown",
   "metadata": {},
   "source": [
    "## Favourite travel destination?"
   ]
  },
  {
   "cell_type": "code",
   "execution_count": 2,
   "metadata": {},
   "outputs": [
    {
     "name": "stdout",
     "output_type": "stream",
     "text": [
      "What is Pepi's favourite travel destination? Outdoors!\n",
      "That's a tough question !!! I'll stick to Outdoors! for the time being :)\n"
     ]
    }
   ],
   "source": [
    "\n",
    "def inputHoliday():\n",
    "    return input(\"What is Pepi's favourite travel destination? \")\n",
    "\n",
    "answer = inputHoliday()\n",
    "print(\"That's a tough question !!! I'll stick to\", answer, \"for the time being :)\")\n"
   ]
  },
  {
   "cell_type": "markdown",
   "metadata": {},
   "source": [
    "\n",
    "Sometimes you need effort to keep up with <span style=\"color:green\">**Pepi**</span>, but the there's always <span style=\"color:green\">**fun**</span> awaiting!\n",
    "\n",
    "<img src=\"../images/IMG-20180108-WA0020.jpg\" alt=\"Pepi&Beto winter time!\" title=\"Snowy Andorra\"/>\n"
   ]
  },
  {
   "cell_type": "markdown",
   "metadata": {},
   "source": [
    "## Top activities\n",
    "\n",
    "Season and destination would change our preferred activities:\n",
    "\n",
    "- We could go for long hikes during summer (we loved [<span style=\"color:blue\">**Kerlingarfjöll**</span>](https://youtu.be/uaD0ycMytno) in Iceland and [<span style=\"color:blue\">**Kungsleden**</span>](https://youtu.be/8rEJDRai22c) in Swedish Lapland). Check the latter links if you are curious about those difficult names!\n",
    "- During winter we often do alpine <span style=\"color:blue\">**skiing**</span>\n",
    "- Last but not least, <span style=\"color:blue\">**Pepi's**</span> a talented <span style=\"color:blue\">**photographer**</span>! You should check her [blog](https://www.quincecatorce.com/) :)\n"
   ]
  },
  {
   "cell_type": "markdown",
   "metadata": {},
   "source": [
    "## Need some travel info?\n",
    "\n",
    "Pepi's passionate about traveling, she's very helpful and loves sharing info if you DM her.\n"
   ]
  }
 ],
 "metadata": {
  "kernelspec": {
   "display_name": "Python 3",
   "language": "python",
   "name": "python3"
  },
  "language_info": {
   "codemirror_mode": {
    "name": "ipython",
    "version": 3
   },
   "file_extension": ".py",
   "mimetype": "text/x-python",
   "name": "python",
   "nbconvert_exporter": "python",
   "pygments_lexer": "ipython3",
   "version": "3.7.6"
  }
 },
 "nbformat": 4,
 "nbformat_minor": 4
}
